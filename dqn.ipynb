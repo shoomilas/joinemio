{
 "cells": [
  {
   "cell_type": "markdown",
   "source": [
    "## Initial imports"
   ],
   "metadata": {}
  },
  {
   "cell_type": "code",
   "execution_count": 7,
   "source": [
    "\n",
    "import gym\n",
    "import torch\n",
    "import random\n",
    "from collections import defaultdict, deque\n",
    "import torch.nn as nn\n",
    "import torch.optim as optim\n",
    "import torch.nn.functional as F\n",
    "from collections import namedtuple, deque\n",
    "\n",
    "import neptune\n",
    "import numpy as np\n",
    "import copy\n",
    "from pprint import pprint\n",
    "import math\n",
    "from tqdm.autonotebook import tqdm\n",
    "from torch.utils.data import DataLoader\n",
    "from torchvision import transforms\n",
    "from joblib import Parallel, delayed\n",
    "import gc\n",
    "import gym_joinemio\n",
    "from gym_joinemio.envs.player import RandomPlayer"
   ],
   "outputs": [],
   "metadata": {
    "tags": []
   }
  },
  {
   "cell_type": "markdown",
   "source": [
    "Neptune prep"
   ],
   "metadata": {}
  },
  {
   "cell_type": "code",
   "execution_count": null,
   "source": [
    "import neptune.new as neptune\n",
    "import os\n",
    "\n",
    "proj = 'jmolais/joinemio'\n",
    "token = os.getenv('JOINEMIO_TOKEN')\n",
    "run = neptune.init(project=proj,\n",
    "                   api_token=token)"
   ],
   "outputs": [],
   "metadata": {}
  },
  {
   "cell_type": "code",
   "execution_count": 10,
   "source": [
    "env = gym.make('joinemio-v0')"
   ],
   "outputs": [],
   "metadata": {}
  },
  {
   "cell_type": "code",
   "execution_count": 11,
   "source": [
    "device = torch.device(\"cuda\" if torch.cuda.is_available() else \"cpu\")\n",
    "print(device)"
   ],
   "outputs": [
    {
     "output_type": "stream",
     "name": "stdout",
     "text": [
      "cpu\n"
     ]
    }
   ],
   "metadata": {}
  },
  {
   "cell_type": "markdown",
   "source": [
    "## Replay memory"
   ],
   "metadata": {}
  },
  {
   "cell_type": "code",
   "execution_count": 12,
   "source": [
    "Transition = namedtuple('Transition',\n",
    "                        ('state', 'action', 'next_state', 'reward'))\n",
    "\n",
    "class ReplayMemory(object):\n",
    "    def __init__(self, capacity):\n",
    "        self.memory = deque([],maxlen=capacity)\n",
    "\n",
    "    def push(self, *args):\n",
    "        \"\"\"Save a transition\"\"\"\n",
    "        self.memory.append(Transition(*args))\n",
    "\n",
    "    def sample(self, batch_size):\n",
    "        return random.sample(self.memory, batch_size) # TODO: Batch size delete\n",
    "\n",
    "    def __len__(self):\n",
    "        return len(self.memory)"
   ],
   "outputs": [
    {
     "output_type": "stream",
     "name": "stderr",
     "text": [
      "[DEBUG][client|bravado.client] executeOperations({'experimentId': '15968353-066b-4838-8b31-b9cb927329b3', 'operations': [{'path': 'monitoring/stdout', 'logStrings': {'entries': [{'value': 'cpu', 'step': None, 'timestampMilliseconds': 1628002001980}, {'value': '\\n', 'step': None, 'timestampMilliseconds': 1628002001983}]}}], '_request_options': {'connect_timeout': 30, 'timeout': None}})\n",
      "[DEBUG][connectionpool|urllib3.connectionpool] https://app.neptune.ai:443 \"POST /api/leaderboard/v1/attributes/operations?experimentId=15968353-066b-4838-8b31-b9cb927329b3 HTTP/1.1\" 200 None\n"
     ]
    }
   ],
   "metadata": {}
  },
  {
   "cell_type": "markdown",
   "source": [
    "## Training: \r\n",
    "Random vs Random. Deep Q-Learning. Params:\r\n",
    "\r\n",
    "- `n_episodes` (int): maximum number of training epsiodes\r\n",
    "- `max_t` (int): maximum number of timesteps per episode _// Not used, because these episodes don't take too long and we like when game's are finished_\r\n",
    "- `eps_start` (float): starting value of epsilon, for epsilon-greedy action selection\r\n",
    "- `eps_end` (float): minimum value of epsilon \r\n",
    "- `eps_decay` (float): mutiplicative factor (per episode) for decreasing epsilon"
   ],
   "metadata": {}
  },
  {
   "cell_type": "code",
   "execution_count": null,
   "source": [
    "BUFFER_SIZE = 200\n",
    "EPISODES = 10\n",
    "EPS_START = 1.0\n",
    "EPS_END = 0.01\n",
    "EPS_DECAY = 0.996"
   ],
   "outputs": [],
   "metadata": {}
  },
  {
   "cell_type": "code",
   "execution_count": null,
   "source": [
    "agent1 = RandomPlayer() # Player1\n",
    "agent2 = RandomPlayer() # Player2\n",
    "\n",
    "def dqn(n_episodes= EPISODES, eps_start=EPS_START, eps_end = EPS_END, eps_decay=EPS_DECAY):\n",
    "    memory_buffer = ReplayMemory(BUFFER_SIZE)\n",
    "    \n",
    "    scores = []                         # list containing score from each episode\n",
    "    scores_window = deque(maxlen=100)   # last 100 scores\n",
    "    eps = eps_start\n",
    "\n",
    "    for i_episode in range(1, n_episodes+1):\n",
    "        print(f\"=== EPISODE {i_episode} ===\")\n",
    "        state = env.reset()\n",
    "        score = 0\n",
    "        \n",
    "        # # OPT A:\n",
    "        # one_game = env.play_one_game(agent1, agent2, each_step_render=False)\n",
    "        # for e in env.recording: print(e)\n",
    "\n",
    "        # OPT B:\n",
    "        players = [agent1, agent2]\n",
    "        env.observation_space = env.reset()\n",
    "        action = None\n",
    "        \n",
    "        while not env.game.game_state == gym_joinemio.envs.board.GameState.finished:\n",
    "            current_player = env.game.current_player - 1\n",
    "            action = players[current_player].get_action(env.observation_space)\n",
    "            state1 = env.game.board.grid\n",
    "            env.observation_space, reward, done, info = env.step(action)\n",
    "            state2 = env.game.board.grid\n",
    "\n",
    "            # Recording data:\n",
    "            if (current_player == 1): # (?) Do we do it for both players?\n",
    "                memory_buffer.push(state1, action, state2, reward.value) \n",
    "\n",
    "            score +=  reward.value\n",
    "            scores.append(score)\n",
    "            scores_window.append(score)\n",
    "            env.recording.append((current_player + 1, action, env.rewarder()))\n",
    "            \n",
    "            # Analyzing scores\n",
    "            eps = max(eps*eps_decay,eps_end)\n",
    "            print('Episode {}\\tAverage Score {:.2f}\\n'.format(i_episode,np.mean(scores_window)), end=\"\")\n",
    "            if np.mean(scores_window)>=200.0:\n",
    "                print('\\nEnvironment solve in {:d} epsiodes!\\tAverage score: {:.2f}'.format(i_episode-100, np.mean(scores_window)))\n",
    "                torch.save(agent.qnetwork_local.state_dict(),'checkpoint.pth')\n",
    "                break\n",
    "        \n",
    "        print(f\"--------\\nWinner: {env.game.winner}\\n\")\n",
    "        # return env.observation_space, reward, done, info  # reward for player1\n",
    "    return scores\n",
    "\n",
    "scores= dqn()"
   ],
   "outputs": [],
   "metadata": {}
  },
  {
   "cell_type": "code",
   "execution_count": null,
   "source": [
    "class NeuralNetwork(nn.Module):\n",
    "    def __init__(self):\n",
    "        super(NeuralNetwork, self).__init__()\n",
    "        self.main_layers = nn.Sequential(\n",
    "        nn.Linear(6*7, 6*7), nn.relU(),\n",
    "        nn.Linear(6*7, 6*7), nn.relU(),\n",
    "        nn.Linear(6*7, 6*7), nn.relU())\n",
    "        self.output_layer =  nn.Linear(6*7,7)\n",
    "\n",
    "    def forward(self, board_flatten_state):\n",
    "        # x1 = torch.tensor(input.astype(float)).type(torch.FloatTensor)\n",
    "        # x = torch.flatten(x1)\n",
    "        # for layer in self.net:\n",
    "        #     x = layer(x)\n",
    "        weights = nn.relU(self.output_layer(self.main_layers(board_flatten_state)))\n",
    "        return weights\n",
    "\n",
    "class AIPlayer:\n",
    "    @staticmethod\n",
    "    def possible_moves(board_state):\n",
    "        available_cols = []\n",
    "        for i in range(len(board_state[0])):\n",
    "            if board_state[0][i] == 0:\n",
    "                available_cols.append(i)\n",
    "        return available_cols\n",
    "\n",
    "    def __init__(self):\n",
    "        self.net = NeuralNetwork()\n",
    "\n",
    "    def get_action(self, board_state):\n",
    "        weigths = self.net.forward(board_state)\n",
    "        pos_nums = self.possible_moves(board_state)\n",
    "        max_num = 0\n",
    "        for col in pos_nums:\n",
    "            if weigths[max_num] < weigths[int(col)]:\n",
    "                max_num = int(col)\n",
    "        return max_num\n",
    "\n",
    "    def train(self, memory_buffer, batch_size):\n",
    "        return 0"
   ],
   "outputs": [],
   "metadata": {}
  },
  {
   "cell_type": "markdown",
   "source": [
    "Evaluation"
   ],
   "metadata": {}
  },
  {
   "cell_type": "code",
   "execution_count": null,
   "source": [],
   "outputs": [],
   "metadata": {}
  }
 ],
 "metadata": {
  "interpreter": {
   "hash": "2db524e06e9f5f4ffedc911c917cb75e12dbc923643829bf417064a77eb14d37"
  },
  "kernelspec": {
   "name": "python3",
   "display_name": "Python 3.8.1 64-bit"
  },
  "language_info": {
   "codemirror_mode": {
    "name": "ipython",
    "version": 3
   },
   "file_extension": ".py",
   "mimetype": "text/x-python",
   "name": "python",
   "nbconvert_exporter": "python",
   "pygments_lexer": "ipython3",
   "version": "3.8.1"
  },
  "metadata": {
   "interpreter": {
    "hash": "8d71e197be79a8854e36fe80d7b81a808575f897a047ec71b5b71be66361356a"
   }
  },
  "orig_nbformat": 2
 },
 "nbformat": 4,
 "nbformat_minor": 2
}