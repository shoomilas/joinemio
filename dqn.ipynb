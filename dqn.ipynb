{
 "metadata": {
  "language_info": {
   "codemirror_mode": {
    "name": "ipython",
    "version": 3
   },
   "file_extension": ".py",
   "mimetype": "text/x-python",
   "name": "python",
   "nbconvert_exporter": "python",
   "pygments_lexer": "ipython3",
   "version": "3.8.9"
  },
  "orig_nbformat": 2,
  "kernelspec": {
   "name": "python389jvsc74a57bd08d71e197be79a8854e36fe80d7b81a808575f897a047ec71b5b71be66361356a",
   "display_name": "Python 3.8.9 64-bit"
  },
  "metadata": {
   "interpreter": {
    "hash": "8d71e197be79a8854e36fe80d7b81a808575f897a047ec71b5b71be66361356a"
   }
  }
 },
 "nbformat": 4,
 "nbformat_minor": 2,
 "cells": [
  {
   "cell_type": "code",
   "execution_count": 2,
   "metadata": {
    "tags": []
   },
   "outputs": [
    {
     "output_type": "stream",
     "name": "stderr",
     "text": [
      "[DEBUG][connect_four_env|gym_joinemio.envs.connect_four_env] Winner: 2\n",
      "(2, 5, <Reward.not_end: 0>)\n",
      "(1, 5, <Reward.not_end: 0>)\n",
      "(2, 5, <Reward.not_end: 0>)\n",
      "(1, 4, <Reward.not_end: 0>)\n",
      "(2, 6, <Reward.not_end: 0>)\n",
      "(1, 0, <Reward.not_end: 0>)\n",
      "(2, 6, <Reward.not_end: 0>)\n",
      "(1, 5, <Reward.not_end: 0>)\n",
      "(2, 0, <Reward.not_end: 0>)\n",
      "(1, 0, <Reward.not_end: 0>)\n",
      "(2, 3, <Reward.not_end: 0>)\n",
      "(1, 5, <Reward.not_end: 0>)\n",
      "(2, 4, <Reward.not_end: 0>)\n",
      "(1, 5, <Reward.not_end: 0>)\n",
      "(2, 3, <Reward.not_end: 0>)\n",
      "(1, 1, <Reward.not_end: 0>)\n",
      "(2, 0, <Reward.not_end: 0>)\n",
      "(1, 3, <Reward.not_end: 0>)\n",
      "(2, 4, <Reward.not_end: 0>)\n",
      "(1, 6, <Reward.not_end: 0>)\n",
      "(2, 0, <Reward.not_end: 0>)\n",
      "(1, 1, <Reward.not_end: 0>)\n",
      "(2, 4, <Reward.not_end: 0>)\n",
      "(1, 0, <Reward.not_end: 0>)\n",
      "(2, 2, <Reward.not_end: 0>)\n",
      "(1, 4, <Reward.not_end: 0>)\n",
      "(2, 6, <Reward.not_end: 0>)\n",
      "(1, 6, <Reward.not_end: 0>)\n",
      "(2, 3, <Reward.not_end: 0>)\n",
      "(1, 6, <Reward.not_end: 0>)\n",
      "(2, 2, <Reward.not_end: 0>)\n",
      "(1, 4, <Reward.not_end: 0>)\n",
      "(2, 1, <Reward.not_end: 0>)\n",
      "(1, 2, <Reward.not_end: 0>)\n",
      "(2, 2, <Reward.not_end: 0>)\n",
      "(1, 1, <Reward.not_end: 0>)\n",
      "(2, 1, <Reward.not_end: 0>)\n",
      "(1, 2, <Reward.not_end: 0>)\n",
      "(2, 1, <Reward.not_end: 0>)\n",
      "(2, 3, <Reward.loss: -100>)\n"
     ]
    }
   ],
   "source": [
    "\n",
    "import gym\n",
    "import gym_joinemio\n",
    "from gym_joinemio.envs.player import RandomPlayer\n",
    "import torch\n",
    "import torch.nn\n",
    "\n",
    "env = gym.make('joinemio-v0')\n",
    "iterations = 2\n",
    "player1 = RandomPlayer()\n",
    "player2 = RandomPlayer()\n",
    "\n",
    "\n",
    "for i in range(iterations): # Iterate the game\n",
    "    one_game = env.play_one_game(player1, player2, each_step_render=False)\n",
    "    env.render()\n",
    "\n",
    "for e in env.recording: print(e)"
   ]
  },
  {
   "cell_type": "code",
   "execution_count": null,
   "metadata": {},
   "outputs": [],
   "source": []
  }
 ]
}