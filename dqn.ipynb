{
 "metadata": {
  "language_info": {
   "codemirror_mode": {
    "name": "ipython",
    "version": 3
   },
   "file_extension": ".py",
   "mimetype": "text/x-python",
   "name": "python",
   "nbconvert_exporter": "python",
   "pygments_lexer": "ipython3",
   "version": "3.8.9"
  },
  "orig_nbformat": 2,
  "kernelspec": {
   "name": "python389jvsc74a57bd08d71e197be79a8854e36fe80d7b81a808575f897a047ec71b5b71be66361356a",
   "display_name": "Python 3.8.9 64-bit"
  },
  "metadata": {
   "interpreter": {
    "hash": "8d71e197be79a8854e36fe80d7b81a808575f897a047ec71b5b71be66361356a"
   }
  }
 },
 "nbformat": 4,
 "nbformat_minor": 2,
 "cells": [
  {
   "cell_type": "code",
   "execution_count": 1,
   "metadata": {
    "tags": []
   },
   "outputs": [],
   "source": [
    "\n",
    "import gym\n",
    "import gym_joinemio\n",
    "from gym_joinemio.envs.player import RandomPlayer\n",
    "import torch\n",
    "import random\n",
    "from collections import defaultdict, deque\n",
    "import torch.nn as nn\n",
    "import torch.optim as optim\n",
    "import torch.nn.functional as F\n",
    "\n",
    "import numpy as np\n",
    "import copy\n",
    "from pprint import pprint\n",
    "import math\n",
    "from tqdm.autonotebook import tqdm\n",
    "from torch.utils.data import DataLoader\n",
    "from torchvision import transforms\n",
    "from joblib import Parallel, delayed\n",
    "import gc\n",
    "\n",
    "device = torch.device(\"cuda\" if torch.cuda.is_available() else \"cpu\")"
   ]
  },
  {
   "cell_type": "code",
   "execution_count": 2,
   "metadata": {},
   "outputs": [
    {
     "output_type": "error",
     "ename": "SyntaxError",
     "evalue": "invalid syntax (<ipython-input-2-c79b359dbc9a>, line 9)",
     "traceback": [
      "\u001b[1;36m  File \u001b[1;32m\"<ipython-input-2-c79b359dbc9a>\"\u001b[1;36m, line \u001b[1;32m9\u001b[0m\n\u001b[1;33m    or e in env.recording: print(e)\u001b[0m\n\u001b[1;37m    ^\u001b[0m\n\u001b[1;31mSyntaxError\u001b[0m\u001b[1;31m:\u001b[0m invalid syntax\n"
     ]
    }
   ],
   "source": [
    "env = gym.make('joinemio-v0')\n",
    "player1 = RandomPlayer()\n",
    "player2 = RandomPlayer()\n",
    "\n",
    "iterations = 1\n",
    "for i in range(iterations): # Iterate the game\n",
    "    one_game = env.play_one_game(player1, player2, each_step_render=False)\n",
    "\n",
    "or e in env.recording: print(e)"
   ]
  },
  {
   "cell_type": "code",
   "execution_count": 49,
   "metadata": {},
   "outputs": [
    {
     "output_type": "stream",
     "name": "stdout",
     "text": [
      "cuda\n"
     ]
    }
   ],
   "source": [
    "device = torch.device(\"cuda\" if torch.cuda.is_available() else \"cpu\")\n",
    "print(device)"
   ]
  },
  {
   "source": [
    "# Try N+9:"
   ],
   "cell_type": "markdown",
   "metadata": {}
  },
  {
   "cell_type": "code",
   "execution_count": 4,
   "metadata": {},
   "outputs": [],
   "source": [
    "def trainNNet(examples,optimizer,nnet):\n",
    "    nnet = NNET(nnet,device=device, optimizer=optimizer)\n",
    "    nnet.train(examples)\n",
    "    return nnet.nn\n",
    "\n",
    "\n",
    "class CNN(nn.Module):\n",
    "    \"\"\"\n",
    "    input: 6 x 7 x 1 (reward) x ...?\n",
    "    output: 7 (best possible move?)\n",
    "    \"\"\"\n",
    "    def __init__(self,action_size=7,hidden_size=128):\n",
    "        super(Connect4Net, self).__init__()\n",
    "\n",
    "    def forward(self, s):\n",
    "        pass\n",
    "\n",
    "class SampleDataset:\n",
    "    def __init__(self,samples):\n",
    "        self.samples = samples\n",
    "    \n",
    "    def __len__(self):\n",
    "        return len(self.samples)\n",
    "    \n",
    "    def __getitem__(self,index):\n",
    "        pass\n",
    "        return torch.tensor(object)\n",
    "    \n",
    "    \n",
    "class NNET:\n",
    "    \"\"\"\n",
    "    Helper class to train and predict\n",
    "    \"\"\"\n",
    "    def __init__(self,nnet,device,optimizer,epoch=10):\n",
    "        self.nn = nnet\n",
    "        self.epoch = epoch\n",
    "        self.device = device\n",
    "        self.optimizer = optimizer\n",
    "    \n",
    "    def train(self,examples):\n",
    "        optimizer = self.optimizer\n",
    "        criterion = self.criterion\n",
    "        model = self.nn\n",
    "        device = self.device\n",
    "        \n",
    "        model.to(device)\n",
    "        model.train()\n",
    "        train_loader = get_trainloader(examples)\n",
    "        \n",
    "        for e in range(self.epoch):\n",
    "            total_loss = 0\n",
    "            for d in train_loader:\n",
    "                optimizer.zero_grad()\n",
    "\n"
   ]
  }
 ]
}